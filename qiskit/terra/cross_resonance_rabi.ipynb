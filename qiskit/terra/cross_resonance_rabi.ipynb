{
 "cells": [
  {
   "cell_type": "code",
   "execution_count": 2,
   "metadata": {},
   "outputs": [],
   "source": [
    "import numpy as np\n",
    "import matplotlib.pyplot as plt\n",
    "from IPython.display import display, Math\n",
    "\n",
    "from qiskit import IBMQ\n",
    "import qiskit.pulse as pulse\n",
    "import qiskit.pulse.pulse_lib as pulse_lib\n",
    "from qiskit.compiler import assemble"
   ]
  },
  {
   "cell_type": "markdown",
   "metadata": {},
   "source": [
    "## Loading system"
   ]
  },
  {
   "cell_type": "code",
   "execution_count": 3,
   "metadata": {},
   "outputs": [],
   "source": [
    "IBMQ.load_accounts()\n",
    "backend_name = 'ibmq_poughkeepsie'\n",
    "backend = IBMQ.get_backend(backend_name)"
   ]
  },
  {
   "cell_type": "code",
   "execution_count": 4,
   "metadata": {},
   "outputs": [],
   "source": [
    "config = backend.configuration()\n",
    "defaults = backend.defaults()\n",
    "\n",
    "system = pulse.PulseChannelSpec.from_backend(backend)"
   ]
  },
  {
   "cell_type": "code",
   "execution_count": 5,
   "metadata": {},
   "outputs": [
    {
     "data": {
      "text/latex": [
       "$\\displaystyle \\mathcal{H} = \\sum_{i=0}^{19}\\left(\\frac{\\omega_{q,i}}{2} (\\mathbb{1}-\\sigma_i^{(z)})+\\Omega_{d,i}D_i(t)\\sigma_i^{X}\\right) + J_{10,11}(\\sigma_{10}^{+}\\sigma_{11}^{-}+\\sigma_{10}^{-}\\sigma_{11}^{+}) + J_{5,6}(\\sigma_{5}^{+}\\sigma_{6}^{-}+\\sigma_{5}^{-}\\sigma_{6}^{+}) + J_{7,12}(\\sigma_{7}^{+}\\sigma_{12}^{-}+\\sigma_{7}^{-}\\sigma_{12}^{+}) + J_{9,8}(\\sigma_{9}^{+}\\sigma_{8}^{-}+\\sigma_{9}^{-}\\sigma_{8}^{+}) + J_{2,1}(\\sigma_{2}^{+}\\sigma_{1}^{-}+\\sigma_{2}^{-}\\sigma_{1}^{+}) + J_{14,13}(\\sigma_{14}^{+}\\sigma_{13}^{-}+\\sigma_{14}^{-}\\sigma_{13}^{+}) + J_{8,9}(\\sigma_{8}^{+}\\sigma_{9}^{-}+\\sigma_{8}^{-}\\sigma_{9}^{+}) + J_{10,15}(\\sigma_{10}^{+}\\sigma_{15}^{-}+\\sigma_{10}^{-}\\sigma_{15}^{+}) + J_{15,16}(\\sigma_{15}^{+}\\sigma_{16}^{-}+\\sigma_{15}^{-}\\sigma_{16}^{+}) + J_{18,19}(\\sigma_{18}^{+}\\sigma_{19}^{-}+\\sigma_{18}^{-}\\sigma_{19}^{+}) + J_{9,4}(\\sigma_{9}^{+}\\sigma_{4}^{-}+\\sigma_{9}^{-}\\sigma_{4}^{+}) + J_{14,9}(\\sigma_{14}^{+}\\sigma_{9}^{-}+\\sigma_{14}^{-}\\sigma_{9}^{+}) + J_{17,16}(\\sigma_{17}^{+}\\sigma_{16}^{-}+\\sigma_{17}^{-}\\sigma_{16}^{+}) + J_{1,2}(\\sigma_{1}^{+}\\sigma_{2}^{-}+\\sigma_{1}^{-}\\sigma_{2}^{+}) + J_{16,17}(\\sigma_{16}^{+}\\sigma_{17}^{-}+\\sigma_{16}^{-}\\sigma_{17}^{+}) + J_{11,10}(\\sigma_{11}^{+}\\sigma_{10}^{-}+\\sigma_{11}^{-}\\sigma_{10}^{+}) + J_{13,12}(\\sigma_{13}^{+}\\sigma_{12}^{-}+\\sigma_{13}^{-}\\sigma_{12}^{+}) + J_{4,9}(\\sigma_{4}^{+}\\sigma_{9}^{-}+\\sigma_{4}^{-}\\sigma_{9}^{+}) + J_{6,7}(\\sigma_{6}^{+}\\sigma_{7}^{-}+\\sigma_{6}^{-}\\sigma_{7}^{+}) + J_{19,18}(\\sigma_{19}^{+}\\sigma_{18}^{-}+\\sigma_{19}^{-}\\sigma_{18}^{+}) + J_{12,13}(\\sigma_{12}^{+}\\sigma_{13}^{-}+\\sigma_{12}^{-}\\sigma_{13}^{+}) + J_{7,6}(\\sigma_{7}^{+}\\sigma_{6}^{-}+\\sigma_{7}^{-}\\sigma_{6}^{+}) + J_{19,14}(\\sigma_{19}^{+}\\sigma_{14}^{-}+\\sigma_{19}^{-}\\sigma_{14}^{+}) + J_{5,0}(\\sigma_{5}^{+}\\sigma_{0}^{-}+\\sigma_{5}^{-}\\sigma_{0}^{+}) + J_{16,15}(\\sigma_{16}^{+}\\sigma_{15}^{-}+\\sigma_{16}^{-}\\sigma_{15}^{+}) + J_{3,4}(\\sigma_{3}^{+}\\sigma_{4}^{-}+\\sigma_{3}^{-}\\sigma_{4}^{+}) + J_{3,2}(\\sigma_{3}^{+}\\sigma_{2}^{-}+\\sigma_{3}^{-}\\sigma_{2}^{+}) + J_{9,14}(\\sigma_{9}^{+}\\sigma_{14}^{-}+\\sigma_{9}^{-}\\sigma_{14}^{+}) + J_{14,19}(\\sigma_{14}^{+}\\sigma_{19}^{-}+\\sigma_{14}^{-}\\sigma_{19}^{+}) + J_{12,7}(\\sigma_{12}^{+}\\sigma_{7}^{-}+\\sigma_{12}^{-}\\sigma_{7}^{+}) + J_{15,10}(\\sigma_{15}^{+}\\sigma_{10}^{-}+\\sigma_{15}^{-}\\sigma_{10}^{+}) + J_{18,17}(\\sigma_{18}^{+}\\sigma_{17}^{-}+\\sigma_{18}^{-}\\sigma_{17}^{+}) + J_{0,5}(\\sigma_{0}^{+}\\sigma_{5}^{-}+\\sigma_{0}^{-}\\sigma_{5}^{+}) + J_{2,3}(\\sigma_{2}^{+}\\sigma_{3}^{-}+\\sigma_{2}^{-}\\sigma_{3}^{+}) + J_{8,7}(\\sigma_{8}^{+}\\sigma_{7}^{-}+\\sigma_{8}^{-}\\sigma_{7}^{+}) + J_{12,11}(\\sigma_{12}^{+}\\sigma_{11}^{-}+\\sigma_{12}^{-}\\sigma_{11}^{+}) + J_{1,0}(\\sigma_{1}^{+}\\sigma_{0}^{-}+\\sigma_{1}^{-}\\sigma_{0}^{+}) + J_{11,12}(\\sigma_{11}^{+}\\sigma_{12}^{-}+\\sigma_{11}^{-}\\sigma_{12}^{+}) + J_{6,5}(\\sigma_{6}^{+}\\sigma_{5}^{-}+\\sigma_{6}^{-}\\sigma_{5}^{+}) + J_{0,1}(\\sigma_{0}^{+}\\sigma_{1}^{-}+\\sigma_{0}^{-}\\sigma_{1}^{+}) + J_{17,18}(\\sigma_{17}^{+}\\sigma_{18}^{-}+\\sigma_{17}^{-}\\sigma_{18}^{+}) + J_{10,5}(\\sigma_{10}^{+}\\sigma_{5}^{-}+\\sigma_{10}^{-}\\sigma_{5}^{+}) + J_{5,10}(\\sigma_{5}^{+}\\sigma_{10}^{-}+\\sigma_{5}^{-}\\sigma_{10}^{+}) + J_{13,14}(\\sigma_{13}^{+}\\sigma_{14}^{-}+\\sigma_{13}^{-}\\sigma_{14}^{+}) + J_{4,3}(\\sigma_{4}^{+}\\sigma_{3}^{-}+\\sigma_{4}^{-}\\sigma_{3}^{+}) + J_{7,8}(\\sigma_{7}^{+}\\sigma_{8}^{-}+\\sigma_{7}^{-}\\sigma_{8}^{+}) + \\Omega_{d,0}(U_{0}^{(0,1)}(t)+U_{1}^{(0,5)}(t))\\sigma_{0}^{X} + \\Omega_{d,1}(U_{2}^{(1,0)}(t)+U_{3}^{(1,2)}(t))\\sigma_{1}^{X} + \\Omega_{d,2}(U_{4}^{(2,1)}(t)+U_{5}^{(2,3)}(t))\\sigma_{2}^{X} + \\Omega_{d,3}(U_{7}^{(3,4)}(t)+U_{6}^{(3,2)}(t))\\sigma_{3}^{X} + \\Omega_{d,4}(U_{8}^{(4,3)}(t)+U_{9}^{(4,9)}(t))\\sigma_{4}^{X} + \\Omega_{d,5}(U_{10}^{(5,0)}(t)+U_{12}^{(5,10)}(t)+U_{11}^{(5,6)}(t))\\sigma_{5}^{X} + \\Omega_{d,6}(U_{14}^{(6,7)}(t)+U_{13}^{(6,5)}(t))\\sigma_{6}^{X} + \\Omega_{d,7}(U_{15}^{(7,6)}(t)+U_{16}^{(7,8)}(t)+U_{17}^{(7,12)}(t))\\sigma_{7}^{X} + \\Omega_{d,8}(U_{18}^{(8,7)}(t)+U_{19}^{(8,9)}(t))\\sigma_{8}^{X} + \\Omega_{d,9}(U_{20}^{(9,4)}(t)+U_{21}^{(9,8)}(t)+U_{22}^{(9,14)}(t))\\sigma_{9}^{X} + \\Omega_{d,10}(U_{24}^{(10,11)}(t)+U_{23}^{(10,5)}(t)+U_{25}^{(10,15)}(t))\\sigma_{10}^{X} + \\Omega_{d,11}(U_{27}^{(11,12)}(t)+U_{26}^{(11,10)}(t))\\sigma_{11}^{X} + \\Omega_{d,12}(U_{28}^{(12,7)}(t)+U_{30}^{(12,13)}(t)+U_{29}^{(12,11)}(t))\\sigma_{12}^{X} + \\Omega_{d,13}(U_{31}^{(13,12)}(t)+U_{32}^{(13,14)}(t))\\sigma_{13}^{X} + \\Omega_{d,14}(U_{35}^{(14,19)}(t)+U_{34}^{(14,13)}(t)+U_{33}^{(14,9)}(t))\\sigma_{14}^{X} + \\Omega_{d,15}(U_{36}^{(15,10)}(t)+U_{37}^{(15,16)}(t))\\sigma_{15}^{X} + \\Omega_{d,16}(U_{38}^{(16,15)}(t)+U_{39}^{(16,17)}(t))\\sigma_{16}^{X} + \\Omega_{d,17}(U_{41}^{(17,18)}(t)+U_{40}^{(17,16)}(t))\\sigma_{17}^{X} + \\Omega_{d,18}(U_{43}^{(18,19)}(t)+U_{42}^{(18,17)}(t))\\sigma_{18}^{X} + \\Omega_{d,19}(U_{45}^{(19,18)}(t)+U_{44}^{(19,14)}(t))\\sigma_{19}^{X} + \\sum_{i=0}^{19} \\left(\\omega_{m,i} a_i^\\dagger a_i + g_{m,i}(a_i^\\dagger\\sigma_i^{-} + a_i\\sigma_i^{+}) + M_i(t)\\Omega_{m,i}(a_i^\\dagger+a_i)\\right)$"
      ],
      "text/plain": [
       "<IPython.core.display.Math object>"
      ]
     },
     "metadata": {},
     "output_type": "display_data"
    }
   ],
   "source": [
    "display(Math(config.hamiltonian['h_latex']))"
   ]
  },
  {
   "cell_type": "markdown",
   "metadata": {},
   "source": [
    "## CR rabi"
   ]
  },
  {
   "cell_type": "code",
   "execution_count": 19,
   "metadata": {},
   "outputs": [],
   "source": [
    "# experimental configs\n",
    "exps = 64\n",
    "shots = 512\n",
    "\n",
    "# qubit ids\n",
    "target = 10\n",
    "control = 15\n",
    "\n",
    "# control channel\n",
    "uchannel = 36\n",
    "\n",
    "# measurement pulses\n",
    "meas_amp = 0.025\n",
    "meas_samples = 1200\n",
    "meas_sigma = 4\n",
    "meas_risefall = 25\n",
    "\n",
    "# CR rabi pulse\n",
    "cr_amps = np.linspace(0, 0.1, exps)\n",
    "cr_samples = 300\n",
    "cr_sigma = 5\n",
    "cr_risefall = 15\n",
    "\n",
    "# scaling factor\n",
    "scale_factor = 1e-10"
   ]
  },
  {
   "cell_type": "markdown",
   "metadata": {},
   "source": [
    "Check frequencies of qubit: $f_{c} > f_{t}$"
   ]
  },
  {
   "cell_type": "code",
   "execution_count": 20,
   "metadata": {},
   "outputs": [
    {
     "data": {
      "text/plain": [
       "4.719692555374837"
      ]
     },
     "execution_count": 20,
     "metadata": {},
     "output_type": "execute_result"
    }
   ],
   "source": [
    "defaults.qubit_freq_est[target]"
   ]
  },
  {
   "cell_type": "code",
   "execution_count": 21,
   "metadata": {},
   "outputs": [
    {
     "data": {
      "text/plain": [
       "4.806466890845457"
      ]
     },
     "execution_count": 21,
     "metadata": {},
     "output_type": "execute_result"
    }
   ],
   "source": [
    "defaults.qubit_freq_est[control]"
   ]
  },
  {
   "cell_type": "markdown",
   "metadata": {},
   "source": [
    "Measurement instruction"
   ]
  },
  {
   "cell_type": "code",
   "execution_count": 22,
   "metadata": {},
   "outputs": [],
   "source": [
    "meas_pulse = pulse_lib.gaussian_square(duration=meas_samples,\n",
    "                                       amp=meas_amp,\n",
    "                                       sigma=meas_sigma,\n",
    "                                       risefall=meas_risefall,\n",
    "                                       name='meas_pulse')\n",
    "acq_command = pulse.Acquire(duration=meas_samples)\n",
    "\n",
    "measure = meas_pulse(system.measures[target]) | acq_command(system.acquires, system.memoryslots)"
   ]
  },
  {
   "cell_type": "markdown",
   "metadata": {},
   "source": [
    "Get $\\pi$-pulse of control qubit:"
   ]
  },
  {
   "cell_type": "code",
   "execution_count": 23,
   "metadata": {},
   "outputs": [],
   "source": [
    "cmd_def = pulse.CmdDef.from_defaults(defaults.cmd_def, defaults.pulse_library)"
   ]
  },
  {
   "cell_type": "code",
   "execution_count": 24,
   "metadata": {},
   "outputs": [],
   "source": [
    "control_xgate = cmd_def.get('u3', qubits=control, P1=np.pi, P2=0, P3=np.pi)"
   ]
  },
  {
   "cell_type": "markdown",
   "metadata": {},
   "source": [
    "CR Rabi schedule"
   ]
  },
  {
   "cell_type": "code",
   "execution_count": 25,
   "metadata": {},
   "outputs": [],
   "source": [
    "schedules = []\n",
    "\n",
    "for c_states in range(2):\n",
    "    for ii, cr_amp in enumerate(cr_amps):\n",
    "        cr_pulse = pulse_lib.gaussian_square(duration=cr_samples,\n",
    "                                             amp=cr_amp,\n",
    "                                             sigma=cr_sigma,\n",
    "                                             risefall=cr_risefall,\n",
    "                                             name='cr_pulse%d' % ii)\n",
    "\n",
    "        schedule = pulse.Schedule(name='CR Rabi experiment at drive amp = %s (control state = %s)' \n",
    "                                  % (cr_amp, c_states))\n",
    "        \n",
    "        if c_states:\n",
    "            schedule += control_xgate\n",
    "        schedule += cr_pulse(system.controls[uchannel]) << control_xgate.duration\n",
    "        schedule += measure << schedule.duration\n",
    "\n",
    "        schedules.append(schedule)"
   ]
  },
  {
   "cell_type": "markdown",
   "metadata": {},
   "source": [
    "A schedule with control qubit = 0"
   ]
  },
  {
   "cell_type": "code",
   "execution_count": 26,
   "metadata": {},
   "outputs": [
    {
     "data": {
      "image/png": "[encoded data removed]",
      "text/plain": [
       "<Figure size 720x864 with 1 Axes>"
      ]
     },
     "execution_count": 26,
     "metadata": {},
     "output_type": "execute_result"
    }
   ],
   "source": [
    "channels = [system.drives[control], system.controls[uchannel], system.measures[target]]\n",
    "schedules[10].draw(channels_to_plot=channels, scaling=20, plot_range=(0, 500), label=True)"
   ]
  },
  {
   "cell_type": "markdown",
   "metadata": {},
   "source": [
    "A schedule with control qubit = 1"
   ]
  },
  {
   "cell_type": "code",
   "execution_count": 27,
   "metadata": {},
   "outputs": [
    {
     "data": {
      "image/png": "[encoded data removed]",
      "text/plain": [
       "<Figure size 720x864 with 2 Axes>"
      ]
     },
     "execution_count": 27,
     "metadata": {},
     "output_type": "execute_result"
    }
   ],
   "source": [
    "channels = [system.drives[control], system.controls[uchannel], system.measures[target]]\n",
    "schedules[exps+10].draw(channels_to_plot=channels, scaling=20, plot_range=(0, 500), label=True)"
   ]
  },
  {
   "cell_type": "code",
   "execution_count": 15,
   "metadata": {},
   "outputs": [],
   "source": [
    "cr_rabi_qobj = assemble(schedules, backend, meas_level=1, meas_return='avg', shots=shots)"
   ]
  },
  {
   "cell_type": "code",
   "execution_count": 16,
   "metadata": {},
   "outputs": [
    {
     "name": "stderr",
     "output_type": "stream",
     "text": [
      "/home/knzwnao/venv/qiskit-dev/lib/python3.6/site-packages/qiskit/providers/ibmq/ibmqjob.py:139: DeprecationWarning: The as_dict() method is deprecated, use to_dict().\n",
      "  self._qobj_payload = qobj.as_dict()\n"
     ]
    }
   ],
   "source": [
    "job = backend.run(cr_rabi_qobj)"
   ]
  },
  {
   "cell_type": "code",
   "execution_count": 17,
   "metadata": {},
   "outputs": [
    {
     "data": {
      "text/plain": [
       "'5d1c48ef3467000018f14388'"
      ]
     },
     "execution_count": 17,
     "metadata": {},
     "output_type": "execute_result"
    }
   ],
   "source": [
    "job.job_id()"
   ]
  },
  {
   "cell_type": "code",
   "execution_count": 18,
   "metadata": {},
   "outputs": [
    {
     "data": {
      "text/plain": [
       "<JobStatus.RUNNING: 'job is actively running'>"
      ]
     },
     "execution_count": 18,
     "metadata": {},
     "output_type": "execute_result"
    }
   ],
   "source": [
    "job.status()"
   ]
  },
  {
   "cell_type": "code",
   "execution_count": null,
   "metadata": {},
   "outputs": [],
   "source": []
  }
 ],
 "metadata": {
  "kernelspec": {
   "display_name": "Python 3",
   "language": "python",
   "name": "python3"
  },
  "language_info": {
   "codemirror_mode": {
    "name": "ipython",
    "version": 3
   },
   "file_extension": ".py",
   "mimetype": "text/x-python",
   "name": "python",
   "nbconvert_exporter": "python",
   "pygments_lexer": "ipython3",
   "version": "3.6.7"
  }
 },
 "nbformat": 4,
 "nbformat_minor": 2
}
